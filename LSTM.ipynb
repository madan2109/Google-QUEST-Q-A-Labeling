{
  "nbformat": 4,
  "nbformat_minor": 0,
  "metadata": {
    "kernelspec": {
      "display_name": "Python 3",
      "language": "python",
      "name": "python3"
    },
    "language_info": {
      "codemirror_mode": {
        "name": "ipython",
        "version": 3
      },
      "file_extension": ".py",
      "mimetype": "text/x-python",
      "name": "python",
      "nbconvert_exporter": "python",
      "pygments_lexer": "ipython3",
      "version": "3.6.5"
    },
    "colab": {
      "name": "LSTM.ipynb",
      "provenance": [],
      "collapsed_sections": []
    },
    "accelerator": "GPU"
  },
  "cells": [
    {
      "cell_type": "code",
      "metadata": {
        "id": "clkyagq8eizr",
        "colab_type": "code",
        "colab": {
          "base_uri": "https://localhost:8080/",
          "height": 34
        },
        "outputId": "7683d570-91bc-4d1f-e7b4-ee849078d8d9"
      },
      "source": [
        "import warnings\n",
        "warnings.filterwarnings(\"ignore\")\n",
        "import pandas as pd\n",
        "import numpy as np\n",
        "from sklearn.feature_extraction.text import TfidfVectorizer\n",
        "from sklearn.feature_extraction.text import CountVectorizer\n",
        "from sklearn.model_selection import train_test_split\n",
        "from sklearn.metrics import roc_auc_score\n",
        "import pickle\n",
        "import re\n",
        "from scipy.stats import spearmanr\n",
        "from tqdm import tqdm\n",
        "from keras.preprocessing.text import Tokenizer\n",
        "from keras.preprocessing.sequence import pad_sequences"
      ],
      "execution_count": 3,
      "outputs": [
        {
          "output_type": "stream",
          "text": [
            "Using TensorFlow backend.\n"
          ],
          "name": "stderr"
        }
      ]
    },
    {
      "cell_type": "code",
      "metadata": {
        "id": "pr3whCJEuOdz",
        "colab_type": "code",
        "outputId": "ba27211d-8d93-467f-afa5-5ad171c6fe34",
        "colab": {
          "base_uri": "https://localhost:8080/",
          "height": 224
        }
      },
      "source": [
        "!wget --header=\"Host: doc-0k-28-docs.googleusercontent.com\" --header=\"User-Agent: Mozilla/5.0 (Windows NT 10.0; Win64; x64) AppleWebKit/537.36 (KHTML, like Gecko) Chrome/83.0.4103.61 Safari/537.36\" --header=\"Accept: text/html,application/xhtml+xml,application/xml;q=0.9,image/webp,image/apng,*/*;q=0.8,application/signed-exchange;v=b3;q=0.9\" --header=\"Accept-Language: en-IN,en-GB;q=0.9,en-US;q=0.8,en;q=0.7,te;q=0.6\" --header=\"Referer: https://drive.google.com/drive/folders/1jDaTjkObjOJtKw_a6UAUdBQjNXBUqPyw\" --header=\"Cookie: AUTH_a6vj9lr9jila39df06jrrjjv0vh3ee7e_nonce=a0gv5ane7299a; NID=201=YcXxrEhUnPpkljFOHDVEtczamxYBktwPo4UgqgEWERwlNvkGBPLf5ROYVTlFD8TCe63d9H5XAdCSV1iHqaQ387y30J3lOCT9bRnFeEjKiO7crtFh15hUO5haIceTzUZ58zCfjou0X0-A-C3B_ABk_ojKkcujnHSp5R0eNWr2xDo\" --header=\"Connection: keep-alive\" \"https://doc-0k-28-docs.googleusercontent.com/docs/securesc/5ekh8l65ha4ipmup3k8f1odtjhhgm4al/4km23g7beok8alsjhm98gc5uuspqt1k0/1591599450000/00067484657673616182/00067484657673616182/1dOH4PadCvqUwPOJx1U4QVowOW2mZWLN7?e=download&authuser=0&nonce=a0gv5ane7299a&user=00067484657673616182&hash=0pa7v7nbu7cuefs10e4l1fa9hl5bep8t\" -c -O 'glove_vectors'"
      ],
      "execution_count": 2,
      "outputs": [
        {
          "output_type": "stream",
          "text": [
            "--2020-06-08 06:58:39--  https://doc-0k-28-docs.googleusercontent.com/docs/securesc/5ekh8l65ha4ipmup3k8f1odtjhhgm4al/4km23g7beok8alsjhm98gc5uuspqt1k0/1591599450000/00067484657673616182/00067484657673616182/1dOH4PadCvqUwPOJx1U4QVowOW2mZWLN7?e=download&authuser=0&nonce=a0gv5ane7299a&user=00067484657673616182&hash=0pa7v7nbu7cuefs10e4l1fa9hl5bep8t\n",
            "Resolving doc-0k-28-docs.googleusercontent.com (doc-0k-28-docs.googleusercontent.com)... 173.194.216.132, 2607:f8b0:400c:c12::84\n",
            "Connecting to doc-0k-28-docs.googleusercontent.com (doc-0k-28-docs.googleusercontent.com)|173.194.216.132|:443... connected.\n",
            "HTTP request sent, awaiting response... 200 OK\n",
            "Length: unspecified [application/octet-stream]\n",
            "Saving to: ‘glove_vectors’\n",
            "\n",
            "glove_vectors           [      <=>           ] 121.60M  64.9MB/s    in 1.9s    \n",
            "\n",
            "2020-06-08 06:58:41 (64.9 MB/s) - ‘glove_vectors’ saved [127506004]\n",
            "\n"
          ],
          "name": "stdout"
        }
      ]
    },
    {
      "cell_type": "code",
      "metadata": {
        "id": "RydKwiZNeizx",
        "colab_type": "code",
        "outputId": "30657d9b-7cc2-4a72-9547-0bf8522c8831",
        "colab": {
          "base_uri": "https://localhost:8080/",
          "height": 632
        }
      },
      "source": [
        "train = pd.read_pickle('./train')\n",
        "train.head()"
      ],
      "execution_count": 4,
      "outputs": [
        {
          "output_type": "execute_result",
          "data": {
            "text/html": [
              "<div>\n",
              "<style scoped>\n",
              "    .dataframe tbody tr th:only-of-type {\n",
              "        vertical-align: middle;\n",
              "    }\n",
              "\n",
              "    .dataframe tbody tr th {\n",
              "        vertical-align: top;\n",
              "    }\n",
              "\n",
              "    .dataframe thead th {\n",
              "        text-align: right;\n",
              "    }\n",
              "</style>\n",
              "<table border=\"1\" class=\"dataframe\">\n",
              "  <thead>\n",
              "    <tr style=\"text-align: right;\">\n",
              "      <th></th>\n",
              "      <th>qa_id</th>\n",
              "      <th>question_title</th>\n",
              "      <th>question_body</th>\n",
              "      <th>question_user_name</th>\n",
              "      <th>question_user_page</th>\n",
              "      <th>answer</th>\n",
              "      <th>answer_user_name</th>\n",
              "      <th>answer_user_page</th>\n",
              "      <th>url</th>\n",
              "      <th>category</th>\n",
              "      <th>host</th>\n",
              "      <th>question_asker_intent_understanding</th>\n",
              "      <th>question_body_critical</th>\n",
              "      <th>question_conversational</th>\n",
              "      <th>question_expect_short_answer</th>\n",
              "      <th>question_fact_seeking</th>\n",
              "      <th>question_has_commonly_accepted_answer</th>\n",
              "      <th>question_interestingness_others</th>\n",
              "      <th>question_interestingness_self</th>\n",
              "      <th>question_multi_intent</th>\n",
              "      <th>question_not_really_a_question</th>\n",
              "      <th>question_opinion_seeking</th>\n",
              "      <th>question_type_choice</th>\n",
              "      <th>question_type_compare</th>\n",
              "      <th>question_type_consequence</th>\n",
              "      <th>question_type_definition</th>\n",
              "      <th>question_type_entity</th>\n",
              "      <th>question_type_instructions</th>\n",
              "      <th>question_type_procedure</th>\n",
              "      <th>question_type_reason_explanation</th>\n",
              "      <th>question_type_spelling</th>\n",
              "      <th>question_well_written</th>\n",
              "      <th>answer_helpful</th>\n",
              "      <th>answer_level_of_information</th>\n",
              "      <th>answer_plausible</th>\n",
              "      <th>answer_relevance</th>\n",
              "      <th>answer_satisfaction</th>\n",
              "      <th>answer_type_instructions</th>\n",
              "      <th>answer_type_procedure</th>\n",
              "      <th>answer_type_reason_explanation</th>\n",
              "      <th>answer_well_written</th>\n",
              "    </tr>\n",
              "  </thead>\n",
              "  <tbody>\n",
              "    <tr>\n",
              "      <th>0</th>\n",
              "      <td>0</td>\n",
              "      <td>what am i losing when using extension tubes in...</td>\n",
              "      <td>after playing around with macro photography on...</td>\n",
              "      <td>ysap</td>\n",
              "      <td>https://photo.stackexchange.com/users/1024</td>\n",
              "      <td>i just got extension tubes so here is the skin...</td>\n",
              "      <td>rfusca</td>\n",
              "      <td>https://photo.stackexchange.com/users/1917</td>\n",
              "      <td>http://photo.stackexchange.com/questions/9169/...</td>\n",
              "      <td>LIFE_ARTS</td>\n",
              "      <td>photo.stackexchange.com</td>\n",
              "      <td>1.000000</td>\n",
              "      <td>0.333333</td>\n",
              "      <td>0.000000</td>\n",
              "      <td>0.0</td>\n",
              "      <td>0.0</td>\n",
              "      <td>0.0</td>\n",
              "      <td>1.000000</td>\n",
              "      <td>1.000000</td>\n",
              "      <td>0.000000</td>\n",
              "      <td>0.0</td>\n",
              "      <td>1.000000</td>\n",
              "      <td>0.000000</td>\n",
              "      <td>0.000000</td>\n",
              "      <td>0.0</td>\n",
              "      <td>0.000000</td>\n",
              "      <td>0.0</td>\n",
              "      <td>1.0</td>\n",
              "      <td>0.000000</td>\n",
              "      <td>0.000000</td>\n",
              "      <td>0.0</td>\n",
              "      <td>1.000000</td>\n",
              "      <td>1.000000</td>\n",
              "      <td>0.666667</td>\n",
              "      <td>1.000000</td>\n",
              "      <td>1.000000</td>\n",
              "      <td>0.800000</td>\n",
              "      <td>1.0</td>\n",
              "      <td>0.000000</td>\n",
              "      <td>0.000000</td>\n",
              "      <td>1.000000</td>\n",
              "    </tr>\n",
              "    <tr>\n",
              "      <th>1</th>\n",
              "      <td>1</td>\n",
              "      <td>what is the distinction between a city and a s...</td>\n",
              "      <td>i am trying to understand what kinds of places...</td>\n",
              "      <td>russellpierce</td>\n",
              "      <td>https://rpg.stackexchange.com/users/8774</td>\n",
              "      <td>it might be helpful to look into the definitio...</td>\n",
              "      <td>Erik Schmidt</td>\n",
              "      <td>https://rpg.stackexchange.com/users/1871</td>\n",
              "      <td>http://rpg.stackexchange.com/questions/47820/w...</td>\n",
              "      <td>CULTURE</td>\n",
              "      <td>rpg.stackexchange.com</td>\n",
              "      <td>1.000000</td>\n",
              "      <td>1.000000</td>\n",
              "      <td>0.000000</td>\n",
              "      <td>0.5</td>\n",
              "      <td>1.0</td>\n",
              "      <td>1.0</td>\n",
              "      <td>0.444444</td>\n",
              "      <td>0.444444</td>\n",
              "      <td>0.666667</td>\n",
              "      <td>0.0</td>\n",
              "      <td>0.000000</td>\n",
              "      <td>0.666667</td>\n",
              "      <td>0.666667</td>\n",
              "      <td>0.0</td>\n",
              "      <td>0.333333</td>\n",
              "      <td>0.0</td>\n",
              "      <td>0.0</td>\n",
              "      <td>0.000000</td>\n",
              "      <td>0.333333</td>\n",
              "      <td>0.0</td>\n",
              "      <td>0.888889</td>\n",
              "      <td>0.888889</td>\n",
              "      <td>0.555556</td>\n",
              "      <td>0.888889</td>\n",
              "      <td>0.888889</td>\n",
              "      <td>0.666667</td>\n",
              "      <td>0.0</td>\n",
              "      <td>0.000000</td>\n",
              "      <td>0.666667</td>\n",
              "      <td>0.888889</td>\n",
              "    </tr>\n",
              "    <tr>\n",
              "      <th>2</th>\n",
              "      <td>2</td>\n",
              "      <td>maximum protusion length for through hole comp...</td>\n",
              "      <td>i am working on a pcb that has through hole co...</td>\n",
              "      <td>Joe Baker</td>\n",
              "      <td>https://electronics.stackexchange.com/users/10157</td>\n",
              "      <td>do you even need grooves   we make several pro...</td>\n",
              "      <td>Dwayne Reid</td>\n",
              "      <td>https://electronics.stackexchange.com/users/64754</td>\n",
              "      <td>http://electronics.stackexchange.com/questions...</td>\n",
              "      <td>SCIENCE</td>\n",
              "      <td>electronics.stackexchange.com</td>\n",
              "      <td>0.888889</td>\n",
              "      <td>0.666667</td>\n",
              "      <td>0.000000</td>\n",
              "      <td>1.0</td>\n",
              "      <td>1.0</td>\n",
              "      <td>1.0</td>\n",
              "      <td>0.666667</td>\n",
              "      <td>0.444444</td>\n",
              "      <td>0.333333</td>\n",
              "      <td>0.0</td>\n",
              "      <td>0.333333</td>\n",
              "      <td>0.000000</td>\n",
              "      <td>0.000000</td>\n",
              "      <td>0.0</td>\n",
              "      <td>0.000000</td>\n",
              "      <td>0.0</td>\n",
              "      <td>1.0</td>\n",
              "      <td>0.333333</td>\n",
              "      <td>0.333333</td>\n",
              "      <td>0.0</td>\n",
              "      <td>0.777778</td>\n",
              "      <td>0.777778</td>\n",
              "      <td>0.555556</td>\n",
              "      <td>1.000000</td>\n",
              "      <td>1.000000</td>\n",
              "      <td>0.666667</td>\n",
              "      <td>0.0</td>\n",
              "      <td>0.333333</td>\n",
              "      <td>1.000000</td>\n",
              "      <td>0.888889</td>\n",
              "    </tr>\n",
              "    <tr>\n",
              "      <th>3</th>\n",
              "      <td>3</td>\n",
              "      <td>can an affidavit be used in beit din</td>\n",
              "      <td>an affidavit from what i understand is basical...</td>\n",
              "      <td>Scimonster</td>\n",
              "      <td>https://judaism.stackexchange.com/users/5151</td>\n",
              "      <td>sending an  affidavit  it is a dispute between...</td>\n",
              "      <td>Y     e     z</td>\n",
              "      <td>https://judaism.stackexchange.com/users/4794</td>\n",
              "      <td>http://judaism.stackexchange.com/questions/551...</td>\n",
              "      <td>CULTURE</td>\n",
              "      <td>judaism.stackexchange.com</td>\n",
              "      <td>0.888889</td>\n",
              "      <td>0.666667</td>\n",
              "      <td>0.666667</td>\n",
              "      <td>1.0</td>\n",
              "      <td>1.0</td>\n",
              "      <td>1.0</td>\n",
              "      <td>0.444444</td>\n",
              "      <td>0.444444</td>\n",
              "      <td>0.000000</td>\n",
              "      <td>0.0</td>\n",
              "      <td>0.000000</td>\n",
              "      <td>1.000000</td>\n",
              "      <td>0.000000</td>\n",
              "      <td>0.0</td>\n",
              "      <td>0.000000</td>\n",
              "      <td>0.0</td>\n",
              "      <td>0.0</td>\n",
              "      <td>0.000000</td>\n",
              "      <td>0.000000</td>\n",
              "      <td>0.0</td>\n",
              "      <td>0.888889</td>\n",
              "      <td>0.833333</td>\n",
              "      <td>0.333333</td>\n",
              "      <td>0.833333</td>\n",
              "      <td>1.000000</td>\n",
              "      <td>0.800000</td>\n",
              "      <td>0.0</td>\n",
              "      <td>0.000000</td>\n",
              "      <td>1.000000</td>\n",
              "      <td>1.000000</td>\n",
              "    </tr>\n",
              "    <tr>\n",
              "      <th>4</th>\n",
              "      <td>5</td>\n",
              "      <td>how do you make a binary image in photoshop</td>\n",
              "      <td>i am trying to make a binary image i want more...</td>\n",
              "      <td>leigero</td>\n",
              "      <td>https://graphicdesign.stackexchange.com/users/...</td>\n",
              "      <td>check out image trace in adobe illustrator   i...</td>\n",
              "      <td>q2ra</td>\n",
              "      <td>https://graphicdesign.stackexchange.com/users/...</td>\n",
              "      <td>http://graphicdesign.stackexchange.com/questio...</td>\n",
              "      <td>LIFE_ARTS</td>\n",
              "      <td>graphicdesign.stackexchange.com</td>\n",
              "      <td>1.000000</td>\n",
              "      <td>0.666667</td>\n",
              "      <td>0.000000</td>\n",
              "      <td>1.0</td>\n",
              "      <td>1.0</td>\n",
              "      <td>1.0</td>\n",
              "      <td>0.666667</td>\n",
              "      <td>0.666667</td>\n",
              "      <td>0.000000</td>\n",
              "      <td>0.0</td>\n",
              "      <td>0.000000</td>\n",
              "      <td>0.000000</td>\n",
              "      <td>0.000000</td>\n",
              "      <td>0.0</td>\n",
              "      <td>0.000000</td>\n",
              "      <td>0.0</td>\n",
              "      <td>1.0</td>\n",
              "      <td>0.000000</td>\n",
              "      <td>1.000000</td>\n",
              "      <td>0.0</td>\n",
              "      <td>1.000000</td>\n",
              "      <td>1.000000</td>\n",
              "      <td>0.666667</td>\n",
              "      <td>1.000000</td>\n",
              "      <td>1.000000</td>\n",
              "      <td>0.800000</td>\n",
              "      <td>1.0</td>\n",
              "      <td>0.000000</td>\n",
              "      <td>1.000000</td>\n",
              "      <td>1.000000</td>\n",
              "    </tr>\n",
              "  </tbody>\n",
              "</table>\n",
              "</div>"
            ],
            "text/plain": [
              "   qa_id  ... answer_well_written\n",
              "0      0  ...            1.000000\n",
              "1      1  ...            0.888889\n",
              "2      2  ...            0.888889\n",
              "3      3  ...            1.000000\n",
              "4      5  ...            1.000000\n",
              "\n",
              "[5 rows x 41 columns]"
            ]
          },
          "metadata": {
            "tags": []
          },
          "execution_count": 4
        }
      ]
    },
    {
      "cell_type": "code",
      "metadata": {
        "id": "NzMxjkzoeiz2",
        "colab_type": "code",
        "outputId": "cfb136ba-ef62-4529-c358-cb55173a4aba",
        "colab": {
          "base_uri": "https://localhost:8080/",
          "height": 496
        }
      },
      "source": [
        "test = pd.read_pickle('./test')\n",
        "test.head()"
      ],
      "execution_count": 5,
      "outputs": [
        {
          "output_type": "execute_result",
          "data": {
            "text/html": [
              "<div>\n",
              "<style scoped>\n",
              "    .dataframe tbody tr th:only-of-type {\n",
              "        vertical-align: middle;\n",
              "    }\n",
              "\n",
              "    .dataframe tbody tr th {\n",
              "        vertical-align: top;\n",
              "    }\n",
              "\n",
              "    .dataframe thead th {\n",
              "        text-align: right;\n",
              "    }\n",
              "</style>\n",
              "<table border=\"1\" class=\"dataframe\">\n",
              "  <thead>\n",
              "    <tr style=\"text-align: right;\">\n",
              "      <th></th>\n",
              "      <th>qa_id</th>\n",
              "      <th>question_title</th>\n",
              "      <th>question_body</th>\n",
              "      <th>question_user_name</th>\n",
              "      <th>question_user_page</th>\n",
              "      <th>answer</th>\n",
              "      <th>answer_user_name</th>\n",
              "      <th>answer_user_page</th>\n",
              "      <th>url</th>\n",
              "      <th>category</th>\n",
              "      <th>host</th>\n",
              "    </tr>\n",
              "  </thead>\n",
              "  <tbody>\n",
              "    <tr>\n",
              "      <th>0</th>\n",
              "      <td>39</td>\n",
              "      <td>will leaving corpses lying around upset my pri...</td>\n",
              "      <td>i see questionsinformation online about how to...</td>\n",
              "      <td>Dylan</td>\n",
              "      <td>https://gaming.stackexchange.com/users/64471</td>\n",
              "      <td>there is no consequence for leaving corpses an...</td>\n",
              "      <td>Nelson868</td>\n",
              "      <td>https://gaming.stackexchange.com/users/97324</td>\n",
              "      <td>http://gaming.stackexchange.com/questions/1979...</td>\n",
              "      <td>CULTURE</td>\n",
              "      <td>gaming.stackexchange.com</td>\n",
              "    </tr>\n",
              "    <tr>\n",
              "      <th>1</th>\n",
              "      <td>46</td>\n",
              "      <td>url link to feature image in the portfolio</td>\n",
              "      <td>i am new to wordpress i have issue with featur...</td>\n",
              "      <td>Anu</td>\n",
              "      <td>https://wordpress.stackexchange.com/users/72927</td>\n",
              "      <td>i think it is possible with custom fields  add...</td>\n",
              "      <td>Irina</td>\n",
              "      <td>https://wordpress.stackexchange.com/users/27233</td>\n",
              "      <td>http://wordpress.stackexchange.com/questions/1...</td>\n",
              "      <td>TECHNOLOGY</td>\n",
              "      <td>wordpress.stackexchange.com</td>\n",
              "    </tr>\n",
              "    <tr>\n",
              "      <th>2</th>\n",
              "      <td>70</td>\n",
              "      <td>is accuracy recoil or bullet spread affected b...</td>\n",
              "      <td>to experiment i started a bot game toggled inv...</td>\n",
              "      <td>Konsta</td>\n",
              "      <td>https://gaming.stackexchange.com/users/37545</td>\n",
              "      <td>you do not have armour in the screenshots this...</td>\n",
              "      <td>Damon Smithies</td>\n",
              "      <td>https://gaming.stackexchange.com/users/70641</td>\n",
              "      <td>http://gaming.stackexchange.com/questions/2154...</td>\n",
              "      <td>CULTURE</td>\n",
              "      <td>gaming.stackexchange.com</td>\n",
              "    </tr>\n",
              "    <tr>\n",
              "      <th>3</th>\n",
              "      <td>132</td>\n",
              "      <td>suddenly got an io error from my external hdd</td>\n",
              "      <td>i have used my raspberry pi as a torrent serve...</td>\n",
              "      <td>robbannn</td>\n",
              "      <td>https://raspberrypi.stackexchange.com/users/17341</td>\n",
              "      <td>your western digital hard drive is disappearin...</td>\n",
              "      <td>HeatfanJohn</td>\n",
              "      <td>https://raspberrypi.stackexchange.com/users/1311</td>\n",
              "      <td>http://raspberrypi.stackexchange.com/questions...</td>\n",
              "      <td>TECHNOLOGY</td>\n",
              "      <td>raspberrypi.stackexchange.com</td>\n",
              "    </tr>\n",
              "    <tr>\n",
              "      <th>4</th>\n",
              "      <td>200</td>\n",
              "      <td>passenger name   flight booking passenger only...</td>\n",
              "      <td>i have bought delhi london return flights for ...</td>\n",
              "      <td>Amit</td>\n",
              "      <td>https://travel.stackexchange.com/users/29089</td>\n",
              "      <td>i called two persons who work for saudia  tick...</td>\n",
              "      <td>Nean Der Thal</td>\n",
              "      <td>https://travel.stackexchange.com/users/10051</td>\n",
              "      <td>http://travel.stackexchange.com/questions/4704...</td>\n",
              "      <td>CULTURE</td>\n",
              "      <td>travel.stackexchange.com</td>\n",
              "    </tr>\n",
              "  </tbody>\n",
              "</table>\n",
              "</div>"
            ],
            "text/plain": [
              "   qa_id  ...                           host\n",
              "0     39  ...       gaming.stackexchange.com\n",
              "1     46  ...    wordpress.stackexchange.com\n",
              "2     70  ...       gaming.stackexchange.com\n",
              "3    132  ...  raspberrypi.stackexchange.com\n",
              "4    200  ...       travel.stackexchange.com\n",
              "\n",
              "[5 rows x 11 columns]"
            ]
          },
          "metadata": {
            "tags": []
          },
          "execution_count": 5
        }
      ]
    },
    {
      "cell_type": "code",
      "metadata": {
        "id": "MqByRG6Zeiz6",
        "colab_type": "code",
        "colab": {}
      },
      "source": [
        "X = pd.DataFrame()\n",
        "for i in test.columns:\n",
        "    X[i] = train[i]"
      ],
      "execution_count": 0,
      "outputs": []
    },
    {
      "cell_type": "code",
      "metadata": {
        "id": "6DRBCxx9eiz9",
        "colab_type": "code",
        "outputId": "b5fb5262-25f6-4ab6-a3a1-f6df6d0e22f4",
        "colab": {
          "base_uri": "https://localhost:8080/",
          "height": 85
        }
      },
      "source": [
        "X.columns"
      ],
      "execution_count": 7,
      "outputs": [
        {
          "output_type": "execute_result",
          "data": {
            "text/plain": [
              "Index(['qa_id', 'question_title', 'question_body', 'question_user_name',\n",
              "       'question_user_page', 'answer', 'answer_user_name', 'answer_user_page',\n",
              "       'url', 'category', 'host'],\n",
              "      dtype='object')"
            ]
          },
          "metadata": {
            "tags": []
          },
          "execution_count": 7
        }
      ]
    },
    {
      "cell_type": "code",
      "metadata": {
        "id": "VUvMsjANei0B",
        "colab_type": "code",
        "outputId": "af0631cf-02ae-49bb-aad4-970cdcfb0863",
        "colab": {
          "base_uri": "https://localhost:8080/",
          "height": 589
        }
      },
      "source": [
        "features = ['question_title','question_body','answer']\n",
        "X[features]"
      ],
      "execution_count": 8,
      "outputs": [
        {
          "output_type": "execute_result",
          "data": {
            "text/html": [
              "<div>\n",
              "<style scoped>\n",
              "    .dataframe tbody tr th:only-of-type {\n",
              "        vertical-align: middle;\n",
              "    }\n",
              "\n",
              "    .dataframe tbody tr th {\n",
              "        vertical-align: top;\n",
              "    }\n",
              "\n",
              "    .dataframe thead th {\n",
              "        text-align: right;\n",
              "    }\n",
              "</style>\n",
              "<table border=\"1\" class=\"dataframe\">\n",
              "  <thead>\n",
              "    <tr style=\"text-align: right;\">\n",
              "      <th></th>\n",
              "      <th>question_title</th>\n",
              "      <th>question_body</th>\n",
              "      <th>answer</th>\n",
              "    </tr>\n",
              "  </thead>\n",
              "  <tbody>\n",
              "    <tr>\n",
              "      <th>0</th>\n",
              "      <td>what am i losing when using extension tubes in...</td>\n",
              "      <td>after playing around with macro photography on...</td>\n",
              "      <td>i just got extension tubes so here is the skin...</td>\n",
              "    </tr>\n",
              "    <tr>\n",
              "      <th>1</th>\n",
              "      <td>what is the distinction between a city and a s...</td>\n",
              "      <td>i am trying to understand what kinds of places...</td>\n",
              "      <td>it might be helpful to look into the definitio...</td>\n",
              "    </tr>\n",
              "    <tr>\n",
              "      <th>2</th>\n",
              "      <td>maximum protusion length for through hole comp...</td>\n",
              "      <td>i am working on a pcb that has through hole co...</td>\n",
              "      <td>do you even need grooves   we make several pro...</td>\n",
              "    </tr>\n",
              "    <tr>\n",
              "      <th>3</th>\n",
              "      <td>can an affidavit be used in beit din</td>\n",
              "      <td>an affidavit from what i understand is basical...</td>\n",
              "      <td>sending an  affidavit  it is a dispute between...</td>\n",
              "    </tr>\n",
              "    <tr>\n",
              "      <th>4</th>\n",
              "      <td>how do you make a binary image in photoshop</td>\n",
              "      <td>i am trying to make a binary image i want more...</td>\n",
              "      <td>check out image trace in adobe illustrator   i...</td>\n",
              "    </tr>\n",
              "    <tr>\n",
              "      <th>...</th>\n",
              "      <td>...</td>\n",
              "      <td>...</td>\n",
              "      <td>...</td>\n",
              "    </tr>\n",
              "    <tr>\n",
              "      <th>6074</th>\n",
              "      <td>using a ski helmet for winter biking</td>\n",
              "      <td>i am curious if anyone uses a skiing helmet fo...</td>\n",
              "      <td>if you are thinking about wearing a ski helmet...</td>\n",
              "    </tr>\n",
              "    <tr>\n",
              "      <th>6075</th>\n",
              "      <td>adjustment to road bike brakes for high grade ...</td>\n",
              "      <td>i have a road bike with a front brake that wea...</td>\n",
              "      <td>you can replace the pads  as stated elsewhere...</td>\n",
              "    </tr>\n",
              "    <tr>\n",
              "      <th>6076</th>\n",
              "      <td>suppress file truncated messages when using tail</td>\n",
              "      <td>i am tailing a log file using tail  f messages...</td>\n",
              "      <td>maybe help if can be fixes origin of this erro...</td>\n",
              "    </tr>\n",
              "    <tr>\n",
              "      <th>6077</th>\n",
              "      <td>when should a supervisor be a co author</td>\n",
              "      <td>what are people is views on this   to be speci...</td>\n",
              "      <td>as a non mathematician i am somewhat mystified...</td>\n",
              "    </tr>\n",
              "    <tr>\n",
              "      <th>6078</th>\n",
              "      <td>why are there so many different types of screw...</td>\n",
              "      <td>newbie question  why is it that there is a baz...</td>\n",
              "      <td>first i really like eric is answer for practic...</td>\n",
              "    </tr>\n",
              "  </tbody>\n",
              "</table>\n",
              "<p>6079 rows × 3 columns</p>\n",
              "</div>"
            ],
            "text/plain": [
              "                                         question_title  ...                                             answer\n",
              "0     what am i losing when using extension tubes in...  ...  i just got extension tubes so here is the skin...\n",
              "1     what is the distinction between a city and a s...  ...  it might be helpful to look into the definitio...\n",
              "2     maximum protusion length for through hole comp...  ...  do you even need grooves   we make several pro...\n",
              "3                 can an affidavit be used in beit din   ...  sending an  affidavit  it is a dispute between...\n",
              "4          how do you make a binary image in photoshop   ...  check out image trace in adobe illustrator   i...\n",
              "...                                                 ...  ...                                                ...\n",
              "6074               using a ski helmet for winter biking  ...  if you are thinking about wearing a ski helmet...\n",
              "6075  adjustment to road bike brakes for high grade ...  ...   you can replace the pads  as stated elsewhere...\n",
              "6076   suppress file truncated messages when using tail  ...  maybe help if can be fixes origin of this erro...\n",
              "6077           when should a supervisor be a co author   ...  as a non mathematician i am somewhat mystified...\n",
              "6078  why are there so many different types of screw...  ...  first i really like eric is answer for practic...\n",
              "\n",
              "[6079 rows x 3 columns]"
            ]
          },
          "metadata": {
            "tags": []
          },
          "execution_count": 8
        }
      ]
    },
    {
      "cell_type": "code",
      "metadata": {
        "id": "0CvNUe-hei0E",
        "colab_type": "code",
        "colab": {}
      },
      "source": [
        "y = pd.DataFrame()\n",
        "for i in train.columns:\n",
        "    if i not in X.columns:\n",
        "        y[i] = train[i]"
      ],
      "execution_count": 0,
      "outputs": []
    },
    {
      "cell_type": "code",
      "metadata": {
        "id": "ZLYlOA2sei0I",
        "colab_type": "code",
        "outputId": "babaac9f-0643-45ed-bd31-d26acbb1cce5",
        "colab": {
          "base_uri": "https://localhost:8080/",
          "height": 289
        }
      },
      "source": [
        "y.columns"
      ],
      "execution_count": 10,
      "outputs": [
        {
          "output_type": "execute_result",
          "data": {
            "text/plain": [
              "Index(['question_asker_intent_understanding', 'question_body_critical',\n",
              "       'question_conversational', 'question_expect_short_answer',\n",
              "       'question_fact_seeking', 'question_has_commonly_accepted_answer',\n",
              "       'question_interestingness_others', 'question_interestingness_self',\n",
              "       'question_multi_intent', 'question_not_really_a_question',\n",
              "       'question_opinion_seeking', 'question_type_choice',\n",
              "       'question_type_compare', 'question_type_consequence',\n",
              "       'question_type_definition', 'question_type_entity',\n",
              "       'question_type_instructions', 'question_type_procedure',\n",
              "       'question_type_reason_explanation', 'question_type_spelling',\n",
              "       'question_well_written', 'answer_helpful',\n",
              "       'answer_level_of_information', 'answer_plausible', 'answer_relevance',\n",
              "       'answer_satisfaction', 'answer_type_instructions',\n",
              "       'answer_type_procedure', 'answer_type_reason_explanation',\n",
              "       'answer_well_written'],\n",
              "      dtype='object')"
            ]
          },
          "metadata": {
            "tags": []
          },
          "execution_count": 10
        }
      ]
    },
    {
      "cell_type": "code",
      "metadata": {
        "id": "06-eebw1ei0L",
        "colab_type": "code",
        "outputId": "9f5ed934-8abe-411c-c20b-09166453d619",
        "colab": {
          "base_uri": "https://localhost:8080/",
          "height": 439
        }
      },
      "source": [
        "y"
      ],
      "execution_count": 11,
      "outputs": [
        {
          "output_type": "execute_result",
          "data": {
            "text/html": [
              "<div>\n",
              "<style scoped>\n",
              "    .dataframe tbody tr th:only-of-type {\n",
              "        vertical-align: middle;\n",
              "    }\n",
              "\n",
              "    .dataframe tbody tr th {\n",
              "        vertical-align: top;\n",
              "    }\n",
              "\n",
              "    .dataframe thead th {\n",
              "        text-align: right;\n",
              "    }\n",
              "</style>\n",
              "<table border=\"1\" class=\"dataframe\">\n",
              "  <thead>\n",
              "    <tr style=\"text-align: right;\">\n",
              "      <th></th>\n",
              "      <th>question_asker_intent_understanding</th>\n",
              "      <th>question_body_critical</th>\n",
              "      <th>question_conversational</th>\n",
              "      <th>question_expect_short_answer</th>\n",
              "      <th>question_fact_seeking</th>\n",
              "      <th>question_has_commonly_accepted_answer</th>\n",
              "      <th>question_interestingness_others</th>\n",
              "      <th>question_interestingness_self</th>\n",
              "      <th>question_multi_intent</th>\n",
              "      <th>question_not_really_a_question</th>\n",
              "      <th>question_opinion_seeking</th>\n",
              "      <th>question_type_choice</th>\n",
              "      <th>question_type_compare</th>\n",
              "      <th>question_type_consequence</th>\n",
              "      <th>question_type_definition</th>\n",
              "      <th>question_type_entity</th>\n",
              "      <th>question_type_instructions</th>\n",
              "      <th>question_type_procedure</th>\n",
              "      <th>question_type_reason_explanation</th>\n",
              "      <th>question_type_spelling</th>\n",
              "      <th>question_well_written</th>\n",
              "      <th>answer_helpful</th>\n",
              "      <th>answer_level_of_information</th>\n",
              "      <th>answer_plausible</th>\n",
              "      <th>answer_relevance</th>\n",
              "      <th>answer_satisfaction</th>\n",
              "      <th>answer_type_instructions</th>\n",
              "      <th>answer_type_procedure</th>\n",
              "      <th>answer_type_reason_explanation</th>\n",
              "      <th>answer_well_written</th>\n",
              "    </tr>\n",
              "  </thead>\n",
              "  <tbody>\n",
              "    <tr>\n",
              "      <th>0</th>\n",
              "      <td>1.000000</td>\n",
              "      <td>0.333333</td>\n",
              "      <td>0.000000</td>\n",
              "      <td>0.000000</td>\n",
              "      <td>0.000000</td>\n",
              "      <td>0.0</td>\n",
              "      <td>1.000000</td>\n",
              "      <td>1.000000</td>\n",
              "      <td>0.000000</td>\n",
              "      <td>0.0</td>\n",
              "      <td>1.000000</td>\n",
              "      <td>0.000000</td>\n",
              "      <td>0.000000</td>\n",
              "      <td>0.0</td>\n",
              "      <td>0.000000</td>\n",
              "      <td>0.0</td>\n",
              "      <td>1.000000</td>\n",
              "      <td>0.000000</td>\n",
              "      <td>0.000000</td>\n",
              "      <td>0.0</td>\n",
              "      <td>1.000000</td>\n",
              "      <td>1.000000</td>\n",
              "      <td>0.666667</td>\n",
              "      <td>1.000000</td>\n",
              "      <td>1.000000</td>\n",
              "      <td>0.800000</td>\n",
              "      <td>1.000000</td>\n",
              "      <td>0.000000</td>\n",
              "      <td>0.000000</td>\n",
              "      <td>1.000000</td>\n",
              "    </tr>\n",
              "    <tr>\n",
              "      <th>1</th>\n",
              "      <td>1.000000</td>\n",
              "      <td>1.000000</td>\n",
              "      <td>0.000000</td>\n",
              "      <td>0.500000</td>\n",
              "      <td>1.000000</td>\n",
              "      <td>1.0</td>\n",
              "      <td>0.444444</td>\n",
              "      <td>0.444444</td>\n",
              "      <td>0.666667</td>\n",
              "      <td>0.0</td>\n",
              "      <td>0.000000</td>\n",
              "      <td>0.666667</td>\n",
              "      <td>0.666667</td>\n",
              "      <td>0.0</td>\n",
              "      <td>0.333333</td>\n",
              "      <td>0.0</td>\n",
              "      <td>0.000000</td>\n",
              "      <td>0.000000</td>\n",
              "      <td>0.333333</td>\n",
              "      <td>0.0</td>\n",
              "      <td>0.888889</td>\n",
              "      <td>0.888889</td>\n",
              "      <td>0.555556</td>\n",
              "      <td>0.888889</td>\n",
              "      <td>0.888889</td>\n",
              "      <td>0.666667</td>\n",
              "      <td>0.000000</td>\n",
              "      <td>0.000000</td>\n",
              "      <td>0.666667</td>\n",
              "      <td>0.888889</td>\n",
              "    </tr>\n",
              "    <tr>\n",
              "      <th>2</th>\n",
              "      <td>0.888889</td>\n",
              "      <td>0.666667</td>\n",
              "      <td>0.000000</td>\n",
              "      <td>1.000000</td>\n",
              "      <td>1.000000</td>\n",
              "      <td>1.0</td>\n",
              "      <td>0.666667</td>\n",
              "      <td>0.444444</td>\n",
              "      <td>0.333333</td>\n",
              "      <td>0.0</td>\n",
              "      <td>0.333333</td>\n",
              "      <td>0.000000</td>\n",
              "      <td>0.000000</td>\n",
              "      <td>0.0</td>\n",
              "      <td>0.000000</td>\n",
              "      <td>0.0</td>\n",
              "      <td>1.000000</td>\n",
              "      <td>0.333333</td>\n",
              "      <td>0.333333</td>\n",
              "      <td>0.0</td>\n",
              "      <td>0.777778</td>\n",
              "      <td>0.777778</td>\n",
              "      <td>0.555556</td>\n",
              "      <td>1.000000</td>\n",
              "      <td>1.000000</td>\n",
              "      <td>0.666667</td>\n",
              "      <td>0.000000</td>\n",
              "      <td>0.333333</td>\n",
              "      <td>1.000000</td>\n",
              "      <td>0.888889</td>\n",
              "    </tr>\n",
              "    <tr>\n",
              "      <th>3</th>\n",
              "      <td>0.888889</td>\n",
              "      <td>0.666667</td>\n",
              "      <td>0.666667</td>\n",
              "      <td>1.000000</td>\n",
              "      <td>1.000000</td>\n",
              "      <td>1.0</td>\n",
              "      <td>0.444444</td>\n",
              "      <td>0.444444</td>\n",
              "      <td>0.000000</td>\n",
              "      <td>0.0</td>\n",
              "      <td>0.000000</td>\n",
              "      <td>1.000000</td>\n",
              "      <td>0.000000</td>\n",
              "      <td>0.0</td>\n",
              "      <td>0.000000</td>\n",
              "      <td>0.0</td>\n",
              "      <td>0.000000</td>\n",
              "      <td>0.000000</td>\n",
              "      <td>0.000000</td>\n",
              "      <td>0.0</td>\n",
              "      <td>0.888889</td>\n",
              "      <td>0.833333</td>\n",
              "      <td>0.333333</td>\n",
              "      <td>0.833333</td>\n",
              "      <td>1.000000</td>\n",
              "      <td>0.800000</td>\n",
              "      <td>0.000000</td>\n",
              "      <td>0.000000</td>\n",
              "      <td>1.000000</td>\n",
              "      <td>1.000000</td>\n",
              "    </tr>\n",
              "    <tr>\n",
              "      <th>4</th>\n",
              "      <td>1.000000</td>\n",
              "      <td>0.666667</td>\n",
              "      <td>0.000000</td>\n",
              "      <td>1.000000</td>\n",
              "      <td>1.000000</td>\n",
              "      <td>1.0</td>\n",
              "      <td>0.666667</td>\n",
              "      <td>0.666667</td>\n",
              "      <td>0.000000</td>\n",
              "      <td>0.0</td>\n",
              "      <td>0.000000</td>\n",
              "      <td>0.000000</td>\n",
              "      <td>0.000000</td>\n",
              "      <td>0.0</td>\n",
              "      <td>0.000000</td>\n",
              "      <td>0.0</td>\n",
              "      <td>1.000000</td>\n",
              "      <td>0.000000</td>\n",
              "      <td>1.000000</td>\n",
              "      <td>0.0</td>\n",
              "      <td>1.000000</td>\n",
              "      <td>1.000000</td>\n",
              "      <td>0.666667</td>\n",
              "      <td>1.000000</td>\n",
              "      <td>1.000000</td>\n",
              "      <td>0.800000</td>\n",
              "      <td>1.000000</td>\n",
              "      <td>0.000000</td>\n",
              "      <td>1.000000</td>\n",
              "      <td>1.000000</td>\n",
              "    </tr>\n",
              "    <tr>\n",
              "      <th>...</th>\n",
              "      <td>...</td>\n",
              "      <td>...</td>\n",
              "      <td>...</td>\n",
              "      <td>...</td>\n",
              "      <td>...</td>\n",
              "      <td>...</td>\n",
              "      <td>...</td>\n",
              "      <td>...</td>\n",
              "      <td>...</td>\n",
              "      <td>...</td>\n",
              "      <td>...</td>\n",
              "      <td>...</td>\n",
              "      <td>...</td>\n",
              "      <td>...</td>\n",
              "      <td>...</td>\n",
              "      <td>...</td>\n",
              "      <td>...</td>\n",
              "      <td>...</td>\n",
              "      <td>...</td>\n",
              "      <td>...</td>\n",
              "      <td>...</td>\n",
              "      <td>...</td>\n",
              "      <td>...</td>\n",
              "      <td>...</td>\n",
              "      <td>...</td>\n",
              "      <td>...</td>\n",
              "      <td>...</td>\n",
              "      <td>...</td>\n",
              "      <td>...</td>\n",
              "      <td>...</td>\n",
              "    </tr>\n",
              "    <tr>\n",
              "      <th>6074</th>\n",
              "      <td>1.000000</td>\n",
              "      <td>0.777778</td>\n",
              "      <td>0.000000</td>\n",
              "      <td>1.000000</td>\n",
              "      <td>1.000000</td>\n",
              "      <td>1.0</td>\n",
              "      <td>0.888889</td>\n",
              "      <td>0.888889</td>\n",
              "      <td>0.333333</td>\n",
              "      <td>0.0</td>\n",
              "      <td>0.000000</td>\n",
              "      <td>0.333333</td>\n",
              "      <td>0.333333</td>\n",
              "      <td>0.0</td>\n",
              "      <td>0.000000</td>\n",
              "      <td>0.0</td>\n",
              "      <td>0.000000</td>\n",
              "      <td>0.000000</td>\n",
              "      <td>0.666667</td>\n",
              "      <td>0.0</td>\n",
              "      <td>0.777778</td>\n",
              "      <td>1.000000</td>\n",
              "      <td>0.555556</td>\n",
              "      <td>1.000000</td>\n",
              "      <td>1.000000</td>\n",
              "      <td>0.866667</td>\n",
              "      <td>0.000000</td>\n",
              "      <td>0.000000</td>\n",
              "      <td>0.000000</td>\n",
              "      <td>0.888889</td>\n",
              "    </tr>\n",
              "    <tr>\n",
              "      <th>6075</th>\n",
              "      <td>1.000000</td>\n",
              "      <td>0.777778</td>\n",
              "      <td>0.000000</td>\n",
              "      <td>1.000000</td>\n",
              "      <td>0.666667</td>\n",
              "      <td>0.5</td>\n",
              "      <td>0.777778</td>\n",
              "      <td>0.777778</td>\n",
              "      <td>0.000000</td>\n",
              "      <td>0.0</td>\n",
              "      <td>0.666667</td>\n",
              "      <td>0.000000</td>\n",
              "      <td>0.000000</td>\n",
              "      <td>0.0</td>\n",
              "      <td>0.000000</td>\n",
              "      <td>0.0</td>\n",
              "      <td>0.666667</td>\n",
              "      <td>0.666667</td>\n",
              "      <td>0.000000</td>\n",
              "      <td>0.0</td>\n",
              "      <td>0.777778</td>\n",
              "      <td>0.888889</td>\n",
              "      <td>0.555556</td>\n",
              "      <td>1.000000</td>\n",
              "      <td>1.000000</td>\n",
              "      <td>0.733333</td>\n",
              "      <td>0.666667</td>\n",
              "      <td>0.333333</td>\n",
              "      <td>0.000000</td>\n",
              "      <td>0.888889</td>\n",
              "    </tr>\n",
              "    <tr>\n",
              "      <th>6076</th>\n",
              "      <td>0.888889</td>\n",
              "      <td>0.555556</td>\n",
              "      <td>0.000000</td>\n",
              "      <td>0.666667</td>\n",
              "      <td>0.333333</td>\n",
              "      <td>1.0</td>\n",
              "      <td>0.444444</td>\n",
              "      <td>0.333333</td>\n",
              "      <td>0.000000</td>\n",
              "      <td>0.0</td>\n",
              "      <td>1.000000</td>\n",
              "      <td>0.000000</td>\n",
              "      <td>0.000000</td>\n",
              "      <td>0.0</td>\n",
              "      <td>0.000000</td>\n",
              "      <td>0.0</td>\n",
              "      <td>1.000000</td>\n",
              "      <td>0.000000</td>\n",
              "      <td>0.000000</td>\n",
              "      <td>0.0</td>\n",
              "      <td>0.444444</td>\n",
              "      <td>0.888889</td>\n",
              "      <td>0.555556</td>\n",
              "      <td>0.888889</td>\n",
              "      <td>0.888889</td>\n",
              "      <td>0.800000</td>\n",
              "      <td>1.000000</td>\n",
              "      <td>0.000000</td>\n",
              "      <td>0.333333</td>\n",
              "      <td>0.555556</td>\n",
              "    </tr>\n",
              "    <tr>\n",
              "      <th>6077</th>\n",
              "      <td>1.000000</td>\n",
              "      <td>0.444444</td>\n",
              "      <td>0.333333</td>\n",
              "      <td>0.000000</td>\n",
              "      <td>0.000000</td>\n",
              "      <td>0.0</td>\n",
              "      <td>0.777778</td>\n",
              "      <td>0.555556</td>\n",
              "      <td>1.000000</td>\n",
              "      <td>0.0</td>\n",
              "      <td>1.000000</td>\n",
              "      <td>0.333333</td>\n",
              "      <td>0.000000</td>\n",
              "      <td>0.0</td>\n",
              "      <td>0.000000</td>\n",
              "      <td>0.0</td>\n",
              "      <td>0.000000</td>\n",
              "      <td>0.333333</td>\n",
              "      <td>0.666667</td>\n",
              "      <td>0.0</td>\n",
              "      <td>1.000000</td>\n",
              "      <td>0.888889</td>\n",
              "      <td>0.555556</td>\n",
              "      <td>1.000000</td>\n",
              "      <td>1.000000</td>\n",
              "      <td>0.533333</td>\n",
              "      <td>0.000000</td>\n",
              "      <td>0.333333</td>\n",
              "      <td>0.666667</td>\n",
              "      <td>1.000000</td>\n",
              "    </tr>\n",
              "    <tr>\n",
              "      <th>6078</th>\n",
              "      <td>1.000000</td>\n",
              "      <td>1.000000</td>\n",
              "      <td>0.333333</td>\n",
              "      <td>0.500000</td>\n",
              "      <td>1.000000</td>\n",
              "      <td>0.5</td>\n",
              "      <td>0.777778</td>\n",
              "      <td>0.777778</td>\n",
              "      <td>0.666667</td>\n",
              "      <td>0.0</td>\n",
              "      <td>0.666667</td>\n",
              "      <td>0.333333</td>\n",
              "      <td>0.666667</td>\n",
              "      <td>0.0</td>\n",
              "      <td>0.000000</td>\n",
              "      <td>0.0</td>\n",
              "      <td>0.000000</td>\n",
              "      <td>0.000000</td>\n",
              "      <td>1.000000</td>\n",
              "      <td>0.0</td>\n",
              "      <td>1.000000</td>\n",
              "      <td>0.888889</td>\n",
              "      <td>0.555556</td>\n",
              "      <td>1.000000</td>\n",
              "      <td>0.888889</td>\n",
              "      <td>0.733333</td>\n",
              "      <td>0.000000</td>\n",
              "      <td>0.000000</td>\n",
              "      <td>1.000000</td>\n",
              "      <td>1.000000</td>\n",
              "    </tr>\n",
              "  </tbody>\n",
              "</table>\n",
              "<p>6079 rows × 30 columns</p>\n",
              "</div>"
            ],
            "text/plain": [
              "      question_asker_intent_understanding  ...  answer_well_written\n",
              "0                                1.000000  ...             1.000000\n",
              "1                                1.000000  ...             0.888889\n",
              "2                                0.888889  ...             0.888889\n",
              "3                                0.888889  ...             1.000000\n",
              "4                                1.000000  ...             1.000000\n",
              "...                                   ...  ...                  ...\n",
              "6074                             1.000000  ...             0.888889\n",
              "6075                             1.000000  ...             0.888889\n",
              "6076                             0.888889  ...             0.555556\n",
              "6077                             1.000000  ...             1.000000\n",
              "6078                             1.000000  ...             1.000000\n",
              "\n",
              "[6079 rows x 30 columns]"
            ]
          },
          "metadata": {
            "tags": []
          },
          "execution_count": 11
        }
      ]
    },
    {
      "cell_type": "code",
      "metadata": {
        "id": "kPCGWq1dei0P",
        "colab_type": "code",
        "colab": {}
      },
      "source": [
        "X_train, X_cv, y_train, y_cv = train_test_split(X[features], y.values, test_size=0.25)"
      ],
      "execution_count": 0,
      "outputs": []
    },
    {
      "cell_type": "code",
      "metadata": {
        "id": "JT-riLXoei0U",
        "colab_type": "code",
        "colab": {}
      },
      "source": [
        "t = Tokenizer(filters = \" \")\n",
        "t.fit_on_texts(X_train['question_title'].values)\n",
        "vocab_size_question_title = len(t.word_index) + 1\n",
        "encoded_train_question_title = t.texts_to_sequences(X_train['question_title'].values)\n",
        "encoded_cv_question_title = t.texts_to_sequences(X_cv['question_title'].values)\n",
        "encoded_test_question_title = t.texts_to_sequences(test['question_title'].values)"
      ],
      "execution_count": 0,
      "outputs": []
    },
    {
      "cell_type": "code",
      "metadata": {
        "id": "VGwnrDmHei0Y",
        "colab_type": "code",
        "colab": {}
      },
      "source": [
        "with open('glove_vectors', 'rb') as f:\n",
        "    model = pickle.load(f)\n",
        "    glove_words = set(model.keys())\n",
        "\n",
        "# for train\n",
        "embedding_matrix_model_question_title = np.zeros((vocab_size_question_title, 300))\n",
        "for word, i in t.word_index.items():\n",
        "    if word in glove_words:\n",
        "        embedding_vector = model[word]\n",
        "        embedding_matrix_model_question_title[i] = embedding_vector"
      ],
      "execution_count": 0,
      "outputs": []
    },
    {
      "cell_type": "code",
      "metadata": {
        "id": "IraSsGTnei0g",
        "colab_type": "code",
        "outputId": "613c5e5c-26dc-46e2-c9b0-1662804f1e13",
        "colab": {
          "base_uri": "https://localhost:8080/",
          "height": 265
        }
      },
      "source": [
        "import numpy as np\n",
        "import matplotlib.pyplot as plt\n",
        "\n",
        "#the graph is plotted to analyse the number of words in the text\n",
        "leng = list(len(li) for li in encoded_train_question_title)   \n",
        "leng = np.sort(leng)\n",
        "plt.plot([i for i in range(4559)],leng)\n",
        "plt.show()"
      ],
      "execution_count": 15,
      "outputs": [
        {
          "output_type": "display_data",
          "data": {
            "image/png": "[encoded data removed]",
            "text/plain": [
              "<Figure size 432x288 with 1 Axes>"
            ]
          },
          "metadata": {
            "tags": [],
            "needs_background": "light"
          }
        }
      ]
    },
    {
      "cell_type": "code",
      "metadata": {
        "id": "hkvdidq2ei0o",
        "colab_type": "code",
        "outputId": "791ad17a-1707-46f8-a165-afc0ea60054f",
        "colab": {
          "base_uri": "https://localhost:8080/",
          "height": 187
        }
      },
      "source": [
        "for i in range(90,100):\n",
        "    print(\"{} pecentile : {}\".format(i,leng[round(len(leng)*(i/100))]))"
      ],
      "execution_count": 16,
      "outputs": [
        {
          "output_type": "stream",
          "text": [
            "90 pecentile : 14\n",
            "91 pecentile : 15\n",
            "92 pecentile : 15\n",
            "93 pecentile : 15\n",
            "94 pecentile : 16\n",
            "95 pecentile : 16\n",
            "96 pecentile : 17\n",
            "97 pecentile : 18\n",
            "98 pecentile : 19\n",
            "99 pecentile : 20\n"
          ],
          "name": "stdout"
        }
      ]
    },
    {
      "cell_type": "code",
      "metadata": {
        "id": "CbdMf2ZRei0s",
        "colab_type": "code",
        "colab": {}
      },
      "source": [
        "leng_question_title =20"
      ],
      "execution_count": 0,
      "outputs": []
    },
    {
      "cell_type": "code",
      "metadata": {
        "id": "4fw_w-HAei0w",
        "colab_type": "code",
        "colab": {}
      },
      "source": [
        "train_question_title = pad_sequences(encoded_train_question_title, maxlen=leng_question_title, padding='post')\n",
        "cv_question_title = pad_sequences(encoded_cv_question_title, maxlen=leng_question_title, padding='post')\n",
        "test_question_title = pad_sequences(encoded_test_question_title, maxlen=leng_question_title, padding='post')"
      ],
      "execution_count": 0,
      "outputs": []
    },
    {
      "cell_type": "code",
      "metadata": {
        "id": "xA9RbqcZei00",
        "colab_type": "code",
        "colab": {}
      },
      "source": [
        "t = Tokenizer(filters = \" \")\n",
        "t.fit_on_texts(X_train['question_body'].values)\n",
        "vocab_size_question_body = len(t.word_index) + 1\n",
        "encoded_train_question_body = t.texts_to_sequences(X_train['question_body'].values)\n",
        "encoded_cv_question_body = t.texts_to_sequences(X_cv['question_body'].values)\n",
        "encoded_test_question_body = t.texts_to_sequences(test['question_body'].values)"
      ],
      "execution_count": 0,
      "outputs": []
    },
    {
      "cell_type": "code",
      "metadata": {
        "id": "-HbqdVNkei03",
        "colab_type": "code",
        "colab": {}
      },
      "source": [
        "with open('glove_vectors', 'rb') as f:\n",
        "    model = pickle.load(f)\n",
        "    glove_words = set(model.keys())\n",
        "\n",
        "# for train\n",
        "embedding_matrix_model_question_body = np.zeros((vocab_size_question_body, 300))\n",
        "for word, i in t.word_index.items():\n",
        "    if word in glove_words:\n",
        "        embedding_vector = model[word]\n",
        "        embedding_matrix_model_question_body[i] = embedding_vector"
      ],
      "execution_count": 0,
      "outputs": []
    },
    {
      "cell_type": "code",
      "metadata": {
        "id": "rEVhKLw9ei06",
        "colab_type": "code",
        "outputId": "3054542c-05c9-431f-8f41-79a3991f13c7",
        "colab": {
          "base_uri": "https://localhost:8080/",
          "height": 265
        }
      },
      "source": [
        "leng = list(len(li) for li in encoded_train_question_body)   \n",
        "leng = np.sort(leng)\n",
        "plt.plot([i for i in range(4559)],leng)\n",
        "plt.show()"
      ],
      "execution_count": 21,
      "outputs": [
        {
          "output_type": "display_data",
          "data": {
            "image/png": "[encoded data removed]",
            "text/plain": [
              "<Figure size 432x288 with 1 Axes>"
            ]
          },
          "metadata": {
            "tags": [],
            "needs_background": "light"
          }
        }
      ]
    },
    {
      "cell_type": "code",
      "metadata": {
        "id": "sgXEM1BIei08",
        "colab_type": "code",
        "outputId": "babab74b-9ba8-4baa-d70d-60249a5c94d2",
        "colab": {
          "base_uri": "https://localhost:8080/",
          "height": 187
        }
      },
      "source": [
        "for i in range(90,100):\n",
        "    print(\"{} pecentile : {}\".format(i,leng[round(len(leng)*(i/100))]))"
      ],
      "execution_count": 22,
      "outputs": [
        {
          "output_type": "stream",
          "text": [
            "90 pecentile : 266\n",
            "91 pecentile : 279\n",
            "92 pecentile : 293\n",
            "93 pecentile : 310\n",
            "94 pecentile : 328\n",
            "95 pecentile : 351\n",
            "96 pecentile : 384\n",
            "97 pecentile : 437\n",
            "98 pecentile : 522\n",
            "99 pecentile : 686\n"
          ],
          "name": "stdout"
        }
      ]
    },
    {
      "cell_type": "code",
      "metadata": {
        "id": "alcVSIweei0_",
        "colab_type": "code",
        "colab": {}
      },
      "source": [
        "leng_question_body = 686"
      ],
      "execution_count": 0,
      "outputs": []
    },
    {
      "cell_type": "code",
      "metadata": {
        "id": "mWY_zyc1ei1C",
        "colab_type": "code",
        "colab": {}
      },
      "source": [
        "train_question_body = pad_sequences(encoded_train_question_body, maxlen=leng_question_body, padding='post')\n",
        "cv_question_body = pad_sequences(encoded_cv_question_body, maxlen=leng_question_body, padding='post')\n",
        "test_question_body = pad_sequences(encoded_test_question_body, maxlen=leng_question_body, padding='post')"
      ],
      "execution_count": 0,
      "outputs": []
    },
    {
      "cell_type": "code",
      "metadata": {
        "id": "bWH5eChUei1E",
        "colab_type": "code",
        "colab": {}
      },
      "source": [
        "t = Tokenizer(filters = \" \")\n",
        "t.fit_on_texts(X_train['answer'].values)\n",
        "vocab_size_answer = len(t.word_index) + 1\n",
        "encoded_train_answer = t.texts_to_sequences(X_train['answer'].values)\n",
        "encoded_cv_answer = t.texts_to_sequences(X_cv['answer'].values)\n",
        "encoded_test_answer = t.texts_to_sequences(test['answer'].values)"
      ],
      "execution_count": 0,
      "outputs": []
    },
    {
      "cell_type": "code",
      "metadata": {
        "id": "J1aGjiFlei1I",
        "colab_type": "code",
        "colab": {}
      },
      "source": [
        "with open('glove_vectors', 'rb') as f:\n",
        "    model = pickle.load(f)\n",
        "    glove_words = set(model.keys())\n",
        "\n",
        "# for train\n",
        "embedding_matrix_model_answer = np.zeros((vocab_size_answer, 300))\n",
        "for word, i in t.word_index.items():\n",
        "    if word in glove_words:\n",
        "        embedding_vector = model[word]\n",
        "        embedding_matrix_model_answer[i] = embedding_vector"
      ],
      "execution_count": 0,
      "outputs": []
    },
    {
      "cell_type": "code",
      "metadata": {
        "id": "eXSgDyezei1M",
        "colab_type": "code",
        "outputId": "78e36a08-4abf-4e99-c0f3-0c57269dedc4",
        "colab": {
          "base_uri": "https://localhost:8080/",
          "height": 265
        }
      },
      "source": [
        "leng = list(len(li) for li in encoded_train_answer)   \n",
        "leng = np.sort(leng)\n",
        "plt.plot([i for i in range(4559)],leng)\n",
        "plt.show()"
      ],
      "execution_count": 27,
      "outputs": [
        {
          "output_type": "display_data",
          "data": {
            "image/png": "[encoded data removed]",
            "text/plain": [
              "<Figure size 432x288 with 1 Axes>"
            ]
          },
          "metadata": {
            "tags": [],
            "needs_background": "light"
          }
        }
      ]
    },
    {
      "cell_type": "code",
      "metadata": {
        "id": "aHciG83Rei1P",
        "colab_type": "code",
        "outputId": "49970577-da2a-4d3d-f902-ae86f58baffa",
        "colab": {
          "base_uri": "https://localhost:8080/",
          "height": 187
        }
      },
      "source": [
        "for i in range(90,100):\n",
        "    print(\"{} pecentile : {}\".format(i,leng[round(len(leng)*(i/100))]))"
      ],
      "execution_count": 28,
      "outputs": [
        {
          "output_type": "stream",
          "text": [
            "90 pecentile : 292\n",
            "91 pecentile : 302\n",
            "92 pecentile : 323\n",
            "93 pecentile : 344\n",
            "94 pecentile : 376\n",
            "95 pecentile : 410\n",
            "96 pecentile : 444\n",
            "97 pecentile : 513\n",
            "98 pecentile : 601\n",
            "99 pecentile : 771\n"
          ],
          "name": "stdout"
        }
      ]
    },
    {
      "cell_type": "code",
      "metadata": {
        "id": "YpUBQmvpei1S",
        "colab_type": "code",
        "colab": {}
      },
      "source": [
        "leng_answer = 771"
      ],
      "execution_count": 0,
      "outputs": []
    },
    {
      "cell_type": "code",
      "metadata": {
        "id": "qp9C_ZoUei1U",
        "colab_type": "code",
        "colab": {}
      },
      "source": [
        "train_answer = pad_sequences(encoded_train_answer, maxlen=leng_answer, padding='post')\n",
        "cv_answer = pad_sequences(encoded_cv_answer, maxlen=leng_answer, padding='post')\n",
        "test_answer = pad_sequences(encoded_test_answer, maxlen=leng_answer, padding='post')"
      ],
      "execution_count": 0,
      "outputs": []
    },
    {
      "cell_type": "code",
      "metadata": {
        "id": "Onqx6Varei1Z",
        "colab_type": "code",
        "colab": {}
      },
      "source": [
        "import tensorflow as tf\n",
        "import keras\n",
        "import os\n",
        "import random as rn\n",
        "from tensorflow.keras.models import Model\n",
        "from tensorflow.keras.layers import Dense, Dropout, Flatten,concatenate,Input,Conv1D, MaxPooling1D, Dropout, Embedding,LSTM,BatchNormalization,Bidirectional\n",
        "from tensorflow.keras import backend as K\n",
        "from tensorflow.keras.callbacks import EarlyStopping,ModelCheckpoint,Callback\n",
        "np.random.seed(42)\n",
        "\n",
        "tf.random.set_seed(32)\n",
        "\n",
        "rn.seed(12)\n"
      ],
      "execution_count": 0,
      "outputs": []
    },
    {
      "cell_type": "code",
      "metadata": {
        "id": "CWcV3ZP5ei1c",
        "colab_type": "code",
        "outputId": "b74f5d81-dbd9-4ecc-c9e7-8a0ee85604bb",
        "colab": {
          "base_uri": "https://localhost:8080/",
          "height": 697
        }
      },
      "source": [
        "K.clear_session()\n",
        "input_1 = Input(shape=(leng_question_title,))\n",
        "embed_1 = Embedding(vocab_size_question_title, 300, weights=[embedding_matrix_model_question_title],\n",
        "                    input_length=leng_question_title,\n",
        "                    embeddings_initializer=tf.keras.initializers.RandomNormal(mean=0, stddev=1, seed=23), \n",
        "                    trainable=False)(input_1)\n",
        "lstm=Bidirectional(LSTM(32,activation='tanh',kernel_initializer=tf.keras.initializers.glorot_uniform(seed=26),\n",
        "          return_sequences=True))(embed_1)\n",
        "flat_1=Flatten()(lstm)\n",
        "\n",
        "input_2 = Input(shape=(leng_question_body,))\n",
        "embed_2 = Embedding(vocab_size_question_body, 300, weights=[embedding_matrix_model_question_body], \n",
        "                    input_length=leng_question_body, \n",
        "                    embeddings_initializer=tf.keras.initializers.RandomNormal(mean=0, stddev=1, seed=24), \n",
        "                    trainable=False)(input_2)\n",
        "lstm=Bidirectional(LSTM(32,activation='tanh',kernel_initializer=tf.keras.initializers.glorot_uniform(seed=27),\n",
        "          return_sequences=True))(embed_2)\n",
        "flat_2=Flatten()(lstm)\n",
        "\n",
        "input_3 = Input(shape=(leng_answer,))\n",
        "embed_3 = Embedding(vocab_size_answer, 300, weights=[embedding_matrix_model_answer], \n",
        "                    input_length=leng_answer, \n",
        "                    embeddings_initializer=tf.keras.initializers.RandomNormal(mean=0, stddev=1, seed=25), \n",
        "                    trainable=False)(input_3)\n",
        "lstm=Bidirectional(LSTM(32,activation='tanh',kernel_initializer=tf.keras.initializers.glorot_uniform(seed=28),\n",
        "          return_sequences=True))(embed_3)\n",
        "flat_3=Flatten()(lstm)\n",
        "\n",
        "concat = concatenate([flat_1,flat_2,flat_3])\n",
        "\n",
        "dense = Dense(32,activation = 'relu',kernel_initializer=tf.keras.initializers.he_normal(seed=40))(concat)\n",
        "\n",
        "output = Dense(30,activation = 'sigmoid',kernel_initializer=tf.keras.initializers.glorot_uniform(seed=45))(dense)\n",
        "\n",
        "model_lstm = Model(inputs = [input_1, input_2, input_3], outputs = output)\n",
        "\n",
        "model_lstm.summary()"
      ],
      "execution_count": 41,
      "outputs": [
        {
          "output_type": "stream",
          "text": [
            "Model: \"model\"\n",
            "__________________________________________________________________________________________________\n",
            "Layer (type)                    Output Shape         Param #     Connected to                     \n",
            "==================================================================================================\n",
            "input_1 (InputLayer)            [(None, 20)]         0                                            \n",
            "__________________________________________________________________________________________________\n",
            "input_2 (InputLayer)            [(None, 686)]        0                                            \n",
            "__________________________________________________________________________________________________\n",
            "input_3 (InputLayer)            [(None, 771)]        0                                            \n",
            "__________________________________________________________________________________________________\n",
            "embedding (Embedding)           (None, 20, 300)      2000700     input_1[0][0]                    \n",
            "__________________________________________________________________________________________________\n",
            "embedding_1 (Embedding)         (None, 686, 300)     9044700     input_2[0][0]                    \n",
            "__________________________________________________________________________________________________\n",
            "embedding_2 (Embedding)         (None, 771, 300)     11295600    input_3[0][0]                    \n",
            "__________________________________________________________________________________________________\n",
            "bidirectional (Bidirectional)   (None, 20, 64)       85248       embedding[0][0]                  \n",
            "__________________________________________________________________________________________________\n",
            "bidirectional_1 (Bidirectional) (None, 686, 64)      85248       embedding_1[0][0]                \n",
            "__________________________________________________________________________________________________\n",
            "bidirectional_2 (Bidirectional) (None, 771, 64)      85248       embedding_2[0][0]                \n",
            "__________________________________________________________________________________________________\n",
            "flatten (Flatten)               (None, 1280)         0           bidirectional[0][0]              \n",
            "__________________________________________________________________________________________________\n",
            "flatten_1 (Flatten)             (None, 43904)        0           bidirectional_1[0][0]            \n",
            "__________________________________________________________________________________________________\n",
            "flatten_2 (Flatten)             (None, 49344)        0           bidirectional_2[0][0]            \n",
            "__________________________________________________________________________________________________\n",
            "concatenate (Concatenate)       (None, 94528)        0           flatten[0][0]                    \n",
            "                                                                 flatten_1[0][0]                  \n",
            "                                                                 flatten_2[0][0]                  \n",
            "__________________________________________________________________________________________________\n",
            "dense (Dense)                   (None, 32)           3024928     concatenate[0][0]                \n",
            "__________________________________________________________________________________________________\n",
            "dense_1 (Dense)                 (None, 30)           990         dense[0][0]                      \n",
            "==================================================================================================\n",
            "Total params: 25,622,662\n",
            "Trainable params: 3,281,662\n",
            "Non-trainable params: 22,341,000\n",
            "__________________________________________________________________________________________________\n"
          ],
          "name": "stdout"
        }
      ]
    },
    {
      "cell_type": "code",
      "metadata": {
        "id": "uNZq2Kmwei1f",
        "colab_type": "code",
        "colab": {}
      },
      "source": [
        "class SpearmanCallback(Callback):\n",
        "    def __init__(self, validation_data, patience, model_name):\n",
        "        self.x_val = validation_data[0]\n",
        "        self.y_val = validation_data[1]\n",
        "        self.patience = patience\n",
        "        self.value = -1\n",
        "        self.bad_epochs = 0\n",
        "        self.model_name = model_name\n",
        "\n",
        "    def on_epoch_end(self, epoch, logs={}):\n",
        "        y_pred_val = self.model.predict(self.x_val)\n",
        "        rho_val = np.mean([spearmanr(self.y_val[:, ind], y_pred_val[:, ind]+ np.random.normal(0, 1e-7, y_pred_val.shape[0])).correlation for ind in range(y_pred_val.shape[1])])\n",
        "        if rho_val >= self.value:\n",
        "            self.value = rho_val\n",
        "            self.bad_epochs = 0\n",
        "            self.model.save_weights(self.model_name)\n",
        "        else:\n",
        "            self.bad_epochs += 1\n",
        "        if self.bad_epochs >= self.patience:\n",
        "            print(\"early stopping Threshold\")\n",
        "            self.model.stop_training = True\n",
        "        print('\\nbad: {}'.format(self.bad_epochs))\n",
        "        print('\\nval_spearman-corr: %s' % (str(round(rho_val, 4))), end=100*' '+'\\n')\n",
        "        return rho_val"
      ],
      "execution_count": 0,
      "outputs": []
    },
    {
      "cell_type": "code",
      "metadata": {
        "id": "Cq7CtM21ei1k",
        "colab_type": "code",
        "colab": {}
      },
      "source": [
        "model_lstm.compile(optimizer=tf.keras.optimizers.Adam(lr=0.001),loss='binary_crossentropy') "
      ],
      "execution_count": 0,
      "outputs": []
    },
    {
      "cell_type": "code",
      "metadata": {
        "id": "axKrUvqTSclG",
        "colab_type": "code",
        "colab": {}
      },
      "source": [
        "train_data = [train_question_title,train_question_body,train_answer]\n",
        "cv_data = [cv_question_title,cv_question_body,cv_answer]"
      ],
      "execution_count": 0,
      "outputs": []
    },
    {
      "cell_type": "code",
      "metadata": {
        "id": "3yeTMyxwei1o",
        "colab_type": "code",
        "outputId": "9d2522a1-cebc-4a6b-db69-dfb6d473d690",
        "colab": {
          "base_uri": "https://localhost:8080/",
          "height": 1000
        }
      },
      "source": [
        "model_lstm.fit(train_data, y_train, batch_size=32, epochs=100, verbose=1, \n",
        "           validation_data=(cv_data, y_cv),\n",
        "           callbacks=[SpearmanCallback(validation_data=(cv_data, y_cv),patience=5,\n",
        "                       model_name='best_weights.h5')])"
      ],
      "execution_count": 44,
      "outputs": [
        {
          "output_type": "stream",
          "text": [
            "Epoch 1/100\n",
            "143/143 [==============================] - ETA: 0s - loss: 0.4603\n",
            "bad: 0\n",
            "\n",
            "val_spearman-corr: 0.2019                                                                                                    \n",
            "143/143 [==============================] - 28s 197ms/step - loss: 0.4603 - val_loss: 0.4056\n",
            "Epoch 2/100\n",
            "143/143 [==============================] - ETA: 0s - loss: 0.3966\n",
            "bad: 0\n",
            "\n",
            "val_spearman-corr: 0.2416                                                                                                    \n",
            "143/143 [==============================] - 25s 172ms/step - loss: 0.3966 - val_loss: 0.3992\n",
            "Epoch 3/100\n",
            "143/143 [==============================] - ETA: 0s - loss: 0.3807\n",
            "bad: 0\n",
            "\n",
            "val_spearman-corr: 0.2516                                                                                                    \n",
            "143/143 [==============================] - 23s 164ms/step - loss: 0.3807 - val_loss: 0.3963\n",
            "Epoch 4/100\n",
            "143/143 [==============================] - ETA: 0s - loss: 0.3678\n",
            "bad: 0\n",
            "\n",
            "val_spearman-corr: 0.2705                                                                                                    \n",
            "143/143 [==============================] - 23s 164ms/step - loss: 0.3678 - val_loss: 0.3964\n",
            "Epoch 5/100\n",
            "143/143 [==============================] - ETA: 0s - loss: 0.3553\n",
            "bad: 0\n",
            "\n",
            "val_spearman-corr: 0.2727                                                                                                    \n",
            "143/143 [==============================] - 23s 163ms/step - loss: 0.3553 - val_loss: 0.3951\n",
            "Epoch 6/100\n",
            "143/143 [==============================] - ETA: 0s - loss: 0.3411\n",
            "bad: 0\n",
            "\n",
            "val_spearman-corr: 0.2774                                                                                                    \n",
            "143/143 [==============================] - 24s 165ms/step - loss: 0.3411 - val_loss: 0.4064\n",
            "Epoch 7/100\n",
            "143/143 [==============================] - ETA: 0s - loss: 0.3307\n",
            "bad: 0\n",
            "\n",
            "val_spearman-corr: 0.2832                                                                                                    \n",
            "143/143 [==============================] - 23s 163ms/step - loss: 0.3307 - val_loss: 0.4034\n",
            "Epoch 8/100\n",
            "143/143 [==============================] - ETA: 0s - loss: 0.3202\n",
            "bad: 1\n",
            "\n",
            "val_spearman-corr: 0.2803                                                                                                    \n",
            "143/143 [==============================] - 23s 161ms/step - loss: 0.3202 - val_loss: 0.4070\n",
            "Epoch 9/100\n",
            "143/143 [==============================] - ETA: 0s - loss: 0.3145\n",
            "bad: 0\n",
            "\n",
            "val_spearman-corr: 0.284                                                                                                    \n",
            "143/143 [==============================] - 24s 166ms/step - loss: 0.3145 - val_loss: 0.4130\n",
            "Epoch 10/100\n",
            "143/143 [==============================] - ETA: 0s - loss: 0.3084\n",
            "bad: 1\n",
            "\n",
            "val_spearman-corr: 0.2826                                                                                                    \n",
            "143/143 [==============================] - 24s 166ms/step - loss: 0.3084 - val_loss: 0.4200\n",
            "Epoch 11/100\n",
            "143/143 [==============================] - ETA: 0s - loss: 0.3044\n",
            "bad: 2\n",
            "\n",
            "val_spearman-corr: 0.2836                                                                                                    \n",
            "143/143 [==============================] - 24s 166ms/step - loss: 0.3044 - val_loss: 0.4201\n",
            "Epoch 12/100\n",
            "143/143 [==============================] - ETA: 0s - loss: 0.2973\n",
            "bad: 0\n",
            "\n",
            "val_spearman-corr: 0.285                                                                                                    \n",
            "143/143 [==============================] - 24s 167ms/step - loss: 0.2973 - val_loss: 0.4261\n",
            "Epoch 13/100\n",
            "143/143 [==============================] - ETA: 0s - loss: 0.2948\n",
            "bad: 1\n",
            "\n",
            "val_spearman-corr: 0.2843                                                                                                    \n",
            "143/143 [==============================] - 24s 166ms/step - loss: 0.2948 - val_loss: 0.4316\n",
            "Epoch 14/100\n",
            "143/143 [==============================] - ETA: 0s - loss: 0.2928\n",
            "bad: 2\n",
            "\n",
            "val_spearman-corr: 0.284                                                                                                    \n",
            "143/143 [==============================] - 24s 167ms/step - loss: 0.2928 - val_loss: 0.4325\n",
            "Epoch 15/100\n",
            "143/143 [==============================] - ETA: 0s - loss: 0.2925\n",
            "bad: 3\n",
            "\n",
            "val_spearman-corr: 0.2834                                                                                                    \n",
            "143/143 [==============================] - 24s 166ms/step - loss: 0.2925 - val_loss: 0.4356\n",
            "Epoch 16/100\n",
            "143/143 [==============================] - ETA: 0s - loss: 0.2882\n",
            "bad: 4\n",
            "\n",
            "val_spearman-corr: 0.2844                                                                                                    \n",
            "143/143 [==============================] - 24s 164ms/step - loss: 0.2882 - val_loss: 0.4390\n",
            "Epoch 17/100\n",
            "143/143 [==============================] - ETA: 0s - loss: 0.2861early stopping Threshold\n",
            "\n",
            "bad: 5\n",
            "\n",
            "val_spearman-corr: 0.282                                                                                                    \n",
            "143/143 [==============================] - 24s 166ms/step - loss: 0.2861 - val_loss: 0.4444\n"
          ],
          "name": "stdout"
        },
        {
          "output_type": "execute_result",
          "data": {
            "text/plain": [
              "<tensorflow.python.keras.callbacks.History at 0x7fd70e2e8ac8>"
            ]
          },
          "metadata": {
            "tags": []
          },
          "execution_count": 44
        }
      ]
    },
    {
      "cell_type": "code",
      "metadata": {
        "id": "6wOa3VnVei1q",
        "colab_type": "code",
        "colab": {
          "base_uri": "https://localhost:8080/",
          "height": 51
        },
        "outputId": "dc342b39-c02b-4aaa-ea43-cde5f193bbc7"
      },
      "source": [
        "%%time\n",
        "model_lstm.load_weights(\"best_weights.h5\")\n",
        "y_pred_val = model_lstm.predict(cv_data)\n",
        "sp = np.mean([spearmanr(y_cv[:, ind], y_pred_val[:, ind]).correlation for ind in range(y_pred_val.shape[1])])"
      ],
      "execution_count": 45,
      "outputs": [
        {
          "output_type": "stream",
          "text": [
            "CPU times: user 3.42 s, sys: 155 ms, total: 3.57 s\n",
            "Wall time: 2.97 s\n"
          ],
          "name": "stdout"
        }
      ]
    },
    {
      "cell_type": "code",
      "metadata": {
        "id": "N3CcbmnwiV6m",
        "colab_type": "code",
        "outputId": "bb207303-7099-4d45-e579-b59805da8d42",
        "colab": {
          "base_uri": "https://localhost:8080/",
          "height": 34
        }
      },
      "source": [
        "print(\"spearman {}\".format(sp))"
      ],
      "execution_count": 46,
      "outputs": [
        {
          "output_type": "stream",
          "text": [
            "spearman 0.285042913938995\n"
          ],
          "name": "stdout"
        }
      ]
    }
  ]
}